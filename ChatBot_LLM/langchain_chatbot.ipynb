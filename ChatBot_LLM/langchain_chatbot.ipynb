{
 "cells": [
  {
   "cell_type": "code",
   "execution_count": 1,
   "metadata": {},
   "outputs": [],
   "source": [
    "from dotenv import load_dotenv\n",
    "import os\n",
    "from langchain.llms import OpenAI\n",
    "from langchain import HuggingFaceHub\n",
    "\n",
    "import warnings\n",
    "warnings.filterwarnings('ignore')\n"
   ]
  },
  {
   "cell_type": "code",
   "execution_count": 2,
   "metadata": {},
   "outputs": [],
   "source": [
    "load_dotenv()\n",
    "OPENAI_API_KEY = os.getenv('OPENAI_API_KEY')\n",
    "HUGGINGFACEHUB_API_TOKEN=os.getenv('HUGGINGFACEHUB_API_TOKEN')"
   ]
  },
  {
   "cell_type": "markdown",
   "metadata": {},
   "source": [
    "# Getting Started with LangChain"
   ]
  },
  {
   "cell_type": "markdown",
   "metadata": {},
   "source": [
    "### OpenAI"
   ]
  },
  {
   "cell_type": "code",
   "execution_count": 3,
   "metadata": {},
   "outputs": [],
   "source": [
    "llm=OpenAI(openai_api_key=OPENAI_API_KEY, temperature=0.7)"
   ]
  },
  {
   "cell_type": "code",
   "execution_count": 4,
   "metadata": {},
   "outputs": [
    {
     "name": "stdout",
     "output_type": "stream",
     "text": [
      "\n",
      "\n",
      "Eren Yeager is the main protagonist of the popular Japanese manga and anime series, Attack on Titan. He is a young man who lives in a world where humanity is constantly under threat from giant humanoid creatures called Titans. Eren joins the military along with his childhood friends, Mikasa Ackerman and Armin Arlert, to fight against the Titans and seek revenge for the death of his mother. He possesses the ability to transform into a Titan himself, making him a key player in the ongoing war against the Titans. Eren is determined, hot-headed, and driven by a strong desire to protect his loved ones and eradicate the Titans.\n"
     ]
    }
   ],
   "source": [
    "text = \"Who is Eren Yeager?\"\n",
    "print(llm.predict(text))"
   ]
  },
  {
   "cell_type": "markdown",
   "metadata": {},
   "source": [
    "### Google FLAN"
   ]
  },
  {
   "cell_type": "code",
   "execution_count": 5,
   "metadata": {},
   "outputs": [],
   "source": [
    "llm_hf_flan=HuggingFaceHub(repo_id=\"google/flan-t5-large\",model_kwargs={\"temperature\":0,\"max_length\":64})"
   ]
  },
  {
   "cell_type": "code",
   "execution_count": 6,
   "metadata": {},
   "outputs": [
    {
     "name": "stdout",
     "output_type": "stream",
     "text": [
      "physicist\n"
     ]
    }
   ],
   "source": [
    "output=llm_hf_flan.predict(\"Who is Eren Yeager?\")\n",
    "print(output)"
   ]
  },
  {
   "cell_type": "code",
   "execution_count": 7,
   "metadata": {},
   "outputs": [
    {
     "name": "stdout",
     "output_type": "stream",
     "text": [
      "leafs are a beautiful thing they are a beautiful thing they are a beautiful thing\n"
     ]
    }
   ],
   "source": [
    "output=llm_hf_flan.predict(\"Write a poem about leafs\")\n",
    "print(output)"
   ]
  },
  {
   "cell_type": "markdown",
   "metadata": {},
   "source": [
    "### Mixtral-8x7B"
   ]
  },
  {
   "cell_type": "code",
   "execution_count": 8,
   "metadata": {},
   "outputs": [],
   "source": [
    "llm_hf_mixtral=HuggingFaceHub(repo_id=\"mistralai/Mixtral-8x7B-Instruct-v0.1\",model_kwargs={\"temperature\":0.7,\"max_length\":64})"
   ]
  },
  {
   "cell_type": "code",
   "execution_count": 9,
   "metadata": {},
   "outputs": [
    {
     "name": "stdout",
     "output_type": "stream",
     "text": [
      "Who is Eren Yeager?\n",
      "\n",
      "Eren Yeager is the main protagonist of the anime and manga series Attack on Titan. He is a young man who has vowed to exterminate the Titans, giant humanoid creatures that have been terrorizing humanity for centuries. Eren is driven by a deep hatred for the Titans, as they were responsible for the death of his mother when he was a child.\n",
      "\n",
      "Eren is a member of the Survey Corps, an elite military unit that\n"
     ]
    }
   ],
   "source": [
    "output=llm_hf_mixtral.predict(\"Who is Eren Yeager?\")\n",
    "print(output)"
   ]
  },
  {
   "cell_type": "markdown",
   "metadata": {},
   "source": [
    "# Prompt Templates And LLMChain"
   ]
  },
  {
   "cell_type": "code",
   "execution_count": 10,
   "metadata": {},
   "outputs": [
    {
     "data": {
      "text/plain": [
       "'Give the plot summary of the anime- Attack on Titan'"
      ]
     },
     "execution_count": 10,
     "metadata": {},
     "output_type": "execute_result"
    }
   ],
   "source": [
    "from langchain.prompts import PromptTemplate\n",
    "\n",
    "prompt_template=PromptTemplate(input_variables=['anime_name'],\n",
    "template=\"Give the plot summary of the anime- {anime_name}\")\n",
    "\n",
    "prompt_template.format(anime_name=\"Attack on Titan\")"
   ]
  },
  {
   "cell_type": "code",
   "execution_count": 11,
   "metadata": {},
   "outputs": [
    {
     "name": "stdout",
     "output_type": "stream",
     "text": [
      "Give the plot summary of the anime- Attack on Titan.\n",
      "\n",
      "Attack on Titan is a dark fantasy anime series that follows the story of Eren Yeager, his adopted sister Mikasa Ackerman, and their friend Armin Arlert. The story is set in a world where humanity lives inside three massive walls that protect them from the Titans, giant humanoid creatures that eat humans without reason.\n",
      "\n",
      "The series begins with the sudden appearance of a Colossal Titan, who breaches the outer wall of the city\n"
     ]
    }
   ],
   "source": [
    "from langchain.chains import LLMChain\n",
    "chain=LLMChain(llm=llm_hf_mixtral,prompt=prompt_template)\n",
    "print(chain.run(\"Attack on Titan\"))\n"
   ]
  },
  {
   "cell_type": "markdown",
   "metadata": {},
   "source": [
    "# Combining Multiple Chains with simple Sequential Chain"
   ]
  },
  {
   "cell_type": "code",
   "execution_count": 12,
   "metadata": {},
   "outputs": [],
   "source": [
    "protagonist_template=PromptTemplate(input_variables=['anime_name'],\n",
    "                                    template=\"Tell me the name of the protagonist of {anime_name}\")\n",
    "protagonist_chain=LLMChain(llm=llm_hf_mixtral,prompt=protagonist_template)\n",
    "\n",
    "description_template=PromptTemplate(input_variables=['description'],\n",
    "                                    template=\"Give a description of - {description}\")\n",
    "description_chain=LLMChain(llm=llm_hf_mixtral,prompt=description_template)"
   ]
  },
  {
   "cell_type": "code",
   "execution_count": 13,
   "metadata": {},
   "outputs": [
    {
     "name": "stdout",
     "output_type": "stream",
     "text": [
      "Give a description of - Tell me the name of the protagonist of Attack on Titan.\n",
      "\n",
      "Eren Jaeger\n",
      "\n",
      "Attack on Titan is a Japanese manga series written and illustrated by Hajime Isayama. The story is set in a world where humanity lives in cities surrounded by enormous walls that protect them from gigantic humanoid creatures known as Titans. The protagonist, Eren Jaeger, along with his friends Mikasa Ackerman and Armin Arlert, join the military to fight against the Titans after their home town is destroyed and his mother is eaten by a Titan. Eren has a strong desire to defeat the Titans and uncover the truth behind their existence. He also discovers that he has the ability to transform into a Titan, which becomes a crucial plot point in the series.\n"
     ]
    }
   ],
   "source": [
    "from langchain.chains import SimpleSequentialChain\n",
    "\n",
    "chain=SimpleSequentialChain(chains=[protagonist_chain,description_chain])\n",
    "print(chain.run(\"Attack on Titan\"))"
   ]
  },
  {
   "cell_type": "markdown",
   "metadata": {},
   "source": [
    "# Sequential Chain"
   ]
  },
  {
   "cell_type": "code",
   "execution_count": 14,
   "metadata": {},
   "outputs": [],
   "source": [
    "protagonist_template=PromptTemplate(input_variables=['anime_name'],\n",
    "                                    template=\"Protagonist of {anime_name} is\")\n",
    "\n",
    "protagonist_chain=LLMChain(llm=llm_hf_mixtral,prompt=protagonist_template,output_key=\"protagonist\")"
   ]
  },
  {
   "cell_type": "code",
   "execution_count": 15,
   "metadata": {},
   "outputs": [],
   "source": [
    "description_template=PromptTemplate(input_variables=['protagonist'],\n",
    "                                    template=\"describe {protagonist}\")\n",
    "\n",
    "description_chain=LLMChain(llm=llm_hf_mixtral,prompt=description_template,output_key=\"description\")"
   ]
  },
  {
   "cell_type": "code",
   "execution_count": 16,
   "metadata": {},
   "outputs": [],
   "source": [
    "from langchain.chains import SequentialChain\n",
    "\n",
    "chain=SequentialChain(chains=[protagonist_chain,description_chain],\n",
    "                      input_variables=['anime_name'],\n",
    "                      output_variables=['protagonist',\"description\"])"
   ]
  },
  {
   "cell_type": "code",
   "execution_count": 17,
   "metadata": {},
   "outputs": [
    {
     "data": {
      "text/plain": [
       "{'anime_name': 'Vinland Saga',\n",
       " 'protagonist': 'Protagonist of Vinland Saga is Thorfinn, a young Viking warrior who is the son of Thors, a legendary warrior who was once known as the Troll of Jom. Thorfinn is a skilled fighter and is determined to avenge his father’s death by killing Askeladd, the leader of the band of Vikings who killed Thors.\\n\\nThorfinn is a complex character who is driven by a deep sense of loyalty and a desire for justice. He is also haunted by the',\n",
       " 'description': 'describe Protagonist of Vinland Saga is Thorfinn, a young Viking warrior who is the son of Thors, a legendary warrior who was once known as the Troll of Jom. Thorfinn is a skilled fighter and is determined to avenge his father’s death by killing Askeladd, the leader of the band of Vikings who killed Thors.\\n\\nThorfinn is a complex character who is driven by a deep sense of loyalty and a desire for justice. He is also haunted by the memory of his father and the guilt he feels for not being able to protect him. Despite his tough exterior, Thorfinn is also a sensitive and compassionate person who is capable of forming deep connections with others.\\n\\nThorfinn’s journey in Vinland Saga is one of self-discovery and growth. As he travels with Askeladd and his band of Vikings, Thorfinn learns about the world beyond his village and the complexities of human nature. He'}"
      ]
     },
     "execution_count": 17,
     "metadata": {},
     "output_type": "execute_result"
    }
   ],
   "source": [
    "chain({'anime_name':\"Vinland Saga\"})"
   ]
  },
  {
   "cell_type": "markdown",
   "metadata": {},
   "source": [
    "# Chatmodels"
   ]
  },
  {
   "cell_type": "markdown",
   "metadata": {},
   "source": [
    "### Hugging Face H4 Zephyr-7B"
   ]
  },
  {
   "cell_type": "code",
   "execution_count": 18,
   "metadata": {},
   "outputs": [],
   "source": [
    "from langchain_community.llms import HuggingFaceHub\n",
    "\n",
    "os.environ[\"HF_TOKEN\"] = HUGGINGFACEHUB_API_TOKEN\n",
    "\n",
    "chatllm = HuggingFaceHub(\n",
    "    repo_id=\"HuggingFaceH4/zephyr-7b-beta\",\n",
    "    task=\"text-generation\",\n",
    "    model_kwargs={\n",
    "        \"max_new_tokens\": 512,\n",
    "        \"top_k\": 30,\n",
    "        \"temperature\": 0.6,\n",
    "        \"repetition_penalty\": 1.03,\n",
    "    },\n",
    ")"
   ]
  },
  {
   "cell_type": "code",
   "execution_count": 19,
   "metadata": {},
   "outputs": [
    {
     "name": "stderr",
     "output_type": "stream",
     "text": [
      "WARNING! repo_id is not default parameter.\n",
      "                    repo_id was transferred to model_kwargs.\n",
      "                    Please confirm that repo_id is what you intended.\n",
      "WARNING! task is not default parameter.\n",
      "                    task was transferred to model_kwargs.\n",
      "                    Please confirm that task is what you intended.\n",
      "WARNING! huggingfacehub_api_token is not default parameter.\n",
      "                    huggingfacehub_api_token was transferred to model_kwargs.\n",
      "                    Please confirm that huggingfacehub_api_token is what you intended.\n"
     ]
    },
    {
     "name": "stderr",
     "output_type": "stream",
     "text": [
      "None of PyTorch, TensorFlow >= 2.0, or Flax have been found. Models won't be available and only tokenizers, configuration and file/data utilities can be used.\n"
     ]
    }
   ],
   "source": [
    "from langchain.schema import HumanMessage, SystemMessage\n",
    "from langchain_community.chat_models.huggingface import ChatHuggingFace\n",
    "\n",
    "messages = [SystemMessage(content=\"You're an acclaimed lyricist\"),\n",
    "            HumanMessage(content=\"Write a song for a fantasy thriller anime\"),\n",
    "]\n",
    "\n",
    "chat_model = ChatHuggingFace(llm=chatllm)"
   ]
  },
  {
   "cell_type": "code",
   "execution_count": 20,
   "metadata": {},
   "outputs": [
    {
     "data": {
      "text/plain": [
       "\"<|system|>\\nYou're an acclaimed lyricist</s>\\n<|user|>\\nWrite a song for a fantasy thriller anime</s>\\n<|assistant|>\\n\""
      ]
     },
     "execution_count": 20,
     "metadata": {},
     "output_type": "execute_result"
    }
   ],
   "source": [
    "chat_model._to_chat_prompt(messages)"
   ]
  },
  {
   "cell_type": "code",
   "execution_count": 21,
   "metadata": {},
   "outputs": [
    {
     "name": "stdout",
     "output_type": "stream",
     "text": [
      "<|system|>\n",
      "You're an acclaimed lyricist</s>\n",
      "<|user|>\n",
      "Write a song for a fantasy thriller anime</s>\n",
      "<|assistant|>\n",
      "Verse 1:\n",
      "In a world of magic and mystery\n",
      "Where darkness lurks and danger's near\n",
      "A hero rises, with heart and might\n",
      "To face the shadows and conquer the night\n",
      "\n",
      "Chorus:\n",
      "Fantasy thriller, the battle begins\n",
      "Adventure awaits, the fate of the world spins\n",
      "With courage and strength, we'll face the unknown\n",
      "Fantasy thriller, the journey's been shown\n",
      "\n",
      "Ver\n"
     ]
    }
   ],
   "source": [
    "res = chat_model.invoke(messages)\n",
    "print(res.content)"
   ]
  },
  {
   "cell_type": "markdown",
   "metadata": {},
   "source": [
    "# Prompt Template + LLM +Output Parsers"
   ]
  },
  {
   "cell_type": "code",
   "execution_count": 22,
   "metadata": {},
   "outputs": [],
   "source": [
    "from langchain.prompts.chat import ChatPromptTemplate\n",
    "from langchain.schema import BaseOutputParser"
   ]
  },
  {
   "cell_type": "code",
   "execution_count": 23,
   "metadata": {},
   "outputs": [],
   "source": [
    "class Commaseperatedoutput(BaseOutputParser):\n",
    "    def parse(self,text:str):\n",
    "        return text.strip().split(\",\")"
   ]
  },
  {
   "cell_type": "code",
   "execution_count": 24,
   "metadata": {},
   "outputs": [],
   "source": [
    "template=\"Your are a helpful assistant. When the user gives a word input, you should generate 5 synonyms of that word in a comma seperated list\"\n",
    "human_template=\"{text}\"\n",
    "\n",
    "chatprompt=ChatPromptTemplate.from_messages([\n",
    "    (\"system\",template),\n",
    "    (\"human\",human_template)\n",
    "])"
   ]
  },
  {
   "cell_type": "code",
   "execution_count": 25,
   "metadata": {},
   "outputs": [],
   "source": [
    "chain=chatprompt|chatllm|Commaseperatedoutput()"
   ]
  },
  {
   "cell_type": "code",
   "execution_count": 26,
   "metadata": {},
   "outputs": [
    {
     "name": "stdout",
     "output_type": "stream",
     "text": [
      "['System: Your are a helpful assistant. When the user gives a word input', ' you should generate 5 synonyms of that word in a comma seperated list\\nHuman: story\\nAssistant: narrative', ' tale', ' account', ' history', ' anecdote']\n"
     ]
    }
   ],
   "source": [
    "print(chain.invoke({\"text\":\"story\"}))"
   ]
  }
 ],
 "metadata": {
  "kernelspec": {
   "display_name": ".venv",
   "language": "python",
   "name": "python3"
  },
  "language_info": {
   "codemirror_mode": {
    "name": "ipython",
    "version": 3
   },
   "file_extension": ".py",
   "mimetype": "text/x-python",
   "name": "python",
   "nbconvert_exporter": "python",
   "pygments_lexer": "ipython3",
   "version": "3.10.11"
  }
 },
 "nbformat": 4,
 "nbformat_minor": 2
}
